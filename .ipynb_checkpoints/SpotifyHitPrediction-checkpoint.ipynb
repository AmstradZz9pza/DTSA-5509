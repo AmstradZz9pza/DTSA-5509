{
 "cells": [
  {
   "cell_type": "markdown",
   "id": "39e87540-3772-4432-8c5a-a2e9be1d0d86",
   "metadata": {},
   "source": [
    "# Spotify Song Hit Prediction\n",
    "### Andrew Smith 12/5/2022"
   ]
  },
  {
   "cell_type": "markdown",
   "id": "e7f2568a-24a3-46b0-95f9-3fd5e3ee8778",
   "metadata": {},
   "source": [
    "The purpose of this project is to try to predict if a song on Spotify (a popular music streaming service provider) will be a \"Hit\" or a \"Flop\" based on metrics derived from the Spotify API.  The metrics rate the song along various properties such as \"loudnes\", \"energy\", \"key\", \"temp\", \"duration\", etc.  The explaination and details on how the metrics are derived can be found at https://developer.spotify.com/documentation/web-api/reference/#/operations/get-audio-features\n",
    "\n",
    "For this project, the data to be analyzed was obtained from Kaggle: https://www.kaggle.com/datasets/theoverman/the-spotify-hit-predictor-dataset\n",
    "\n",
    "The curator of the data used the Spotify API to obtain the song metrics for several decades of songs and also added a \"target\" feature which labels each song as being a \"Hit\" or a \"Flop\".  The curator made this determination based on other external sources which identified hit songs.\n",
    "\n",
    "        - The track must not appear in the 'hit' list of that decade.\n",
    "        - The track's artist must not appear in the 'hit' list of that decade.\n",
    "        - The track must belong to a genre that could be considered non-mainstream and / or avant-garde. \n",
    "        - The track's genre must not have a song in the 'hit' list.\n",
    "        - The track must have 'US' as one of its markets.`"
   ]
  },
  {
   "cell_type": "code",
   "execution_count": 5,
   "id": "1ac4c3c4-f650-4c92-8f70-5cd7febed4af",
   "metadata": {},
   "outputs": [
    {
     "name": "stdout",
     "output_type": "stream",
     "text": [
      "data\\dataset-of-00s.csv\n",
      "data\\dataset-of-10s.csv\n",
      "data\\dataset-of-60s.csv\n",
      "data\\dataset-of-70s.csv\n",
      "data\\dataset-of-80s.csv\n",
      "data\\dataset-of-90s.csv\n",
      "data\\LICENSE\n",
      "data\\README.txt\n"
     ]
    }
   ],
   "source": [
    "import numpy as np\n",
    "import pandas as pd\n",
    "\n",
    "import os\n",
    "for dirname, _, filenames in os.walk('data'):\n",
    "    for filename in filenames:\n",
    "        print(os.path.join(dirname, filename))"
   ]
  },
  {
   "cell_type": "markdown",
   "id": "e758c496-0eab-406c-8e8d-f7acafcda26e",
   "metadata": {},
   "source": [
    "#### First read in the datasets into a list of decade DataFrames"
   ]
  },
  {
   "cell_type": "code",
   "execution_count": 16,
   "id": "b48fcd9f-0bb6-4e2f-80ad-f29dc87e0341",
   "metadata": {},
   "outputs": [],
   "source": [
    "decade_list = [pd.read_csv(f'data/dataset-of-{decade}s.csv') for decade in ['60', '70', '80', '90', '00', '10' ]]"
   ]
  },
  {
   "cell_type": "markdown",
   "id": "dd483c2c-f55c-462b-835e-a97285e0c25a",
   "metadata": {},
   "source": [
    "#### Let's take a look at some of the data from the first decade."
   ]
  },
  {
   "cell_type": "code",
   "execution_count": 17,
   "id": "5853d889-d358-4b66-9180-cb83cec7129f",
   "metadata": {},
   "outputs": [
    {
     "name": "stdout",
     "output_type": "stream",
     "text": [
      "<class 'pandas.core.frame.DataFrame'>\n",
      "RangeIndex: 8642 entries, 0 to 8641\n",
      "Data columns (total 19 columns):\n",
      " #   Column            Non-Null Count  Dtype  \n",
      "---  ------            --------------  -----  \n",
      " 0   track             8642 non-null   object \n",
      " 1   artist            8642 non-null   object \n",
      " 2   uri               8642 non-null   object \n",
      " 3   danceability      8642 non-null   float64\n",
      " 4   energy            8642 non-null   float64\n",
      " 5   key               8642 non-null   int64  \n",
      " 6   loudness          8642 non-null   float64\n",
      " 7   mode              8642 non-null   int64  \n",
      " 8   speechiness       8642 non-null   float64\n",
      " 9   acousticness      8642 non-null   float64\n",
      " 10  instrumentalness  8642 non-null   float64\n",
      " 11  liveness          8642 non-null   float64\n",
      " 12  valence           8642 non-null   float64\n",
      " 13  tempo             8642 non-null   float64\n",
      " 14  duration_ms       8642 non-null   int64  \n",
      " 15  time_signature    8642 non-null   int64  \n",
      " 16  chorus_hit        8642 non-null   float64\n",
      " 17  sections          8642 non-null   int64  \n",
      " 18  target            8642 non-null   int64  \n",
      "dtypes: float64(10), int64(6), object(3)\n",
      "memory usage: 1.3+ MB\n"
     ]
    },
    {
     "data": {
      "text/html": [
       "<div>\n",
       "<style scoped>\n",
       "    .dataframe tbody tr th:only-of-type {\n",
       "        vertical-align: middle;\n",
       "    }\n",
       "\n",
       "    .dataframe tbody tr th {\n",
       "        vertical-align: top;\n",
       "    }\n",
       "\n",
       "    .dataframe thead th {\n",
       "        text-align: right;\n",
       "    }\n",
       "</style>\n",
       "<table border=\"1\" class=\"dataframe\">\n",
       "  <thead>\n",
       "    <tr style=\"text-align: right;\">\n",
       "      <th></th>\n",
       "      <th>track</th>\n",
       "      <th>artist</th>\n",
       "      <th>uri</th>\n",
       "      <th>danceability</th>\n",
       "      <th>energy</th>\n",
       "      <th>key</th>\n",
       "      <th>loudness</th>\n",
       "      <th>mode</th>\n",
       "      <th>speechiness</th>\n",
       "      <th>acousticness</th>\n",
       "      <th>instrumentalness</th>\n",
       "      <th>liveness</th>\n",
       "      <th>valence</th>\n",
       "      <th>tempo</th>\n",
       "      <th>duration_ms</th>\n",
       "      <th>time_signature</th>\n",
       "      <th>chorus_hit</th>\n",
       "      <th>sections</th>\n",
       "      <th>target</th>\n",
       "    </tr>\n",
       "  </thead>\n",
       "  <tbody>\n",
       "    <tr>\n",
       "      <th>0</th>\n",
       "      <td>Jealous Kind Of Fella</td>\n",
       "      <td>Garland Green</td>\n",
       "      <td>spotify:track:1dtKN6wwlolkM8XZy2y9C1</td>\n",
       "      <td>0.417</td>\n",
       "      <td>0.620</td>\n",
       "      <td>3</td>\n",
       "      <td>-7.727</td>\n",
       "      <td>1</td>\n",
       "      <td>0.0403</td>\n",
       "      <td>0.490</td>\n",
       "      <td>0.000000</td>\n",
       "      <td>0.0779</td>\n",
       "      <td>0.845</td>\n",
       "      <td>185.655</td>\n",
       "      <td>173533</td>\n",
       "      <td>3</td>\n",
       "      <td>32.94975</td>\n",
       "      <td>9</td>\n",
       "      <td>1</td>\n",
       "    </tr>\n",
       "    <tr>\n",
       "      <th>1</th>\n",
       "      <td>Initials B.B.</td>\n",
       "      <td>Serge Gainsbourg</td>\n",
       "      <td>spotify:track:5hjsmSnUefdUqzsDogisiX</td>\n",
       "      <td>0.498</td>\n",
       "      <td>0.505</td>\n",
       "      <td>3</td>\n",
       "      <td>-12.475</td>\n",
       "      <td>1</td>\n",
       "      <td>0.0337</td>\n",
       "      <td>0.018</td>\n",
       "      <td>0.107000</td>\n",
       "      <td>0.1760</td>\n",
       "      <td>0.797</td>\n",
       "      <td>101.801</td>\n",
       "      <td>213613</td>\n",
       "      <td>4</td>\n",
       "      <td>48.82510</td>\n",
       "      <td>10</td>\n",
       "      <td>0</td>\n",
       "    </tr>\n",
       "    <tr>\n",
       "      <th>2</th>\n",
       "      <td>Melody Twist</td>\n",
       "      <td>Lord Melody</td>\n",
       "      <td>spotify:track:6uk8tI6pwxxdVTNlNOJeJh</td>\n",
       "      <td>0.657</td>\n",
       "      <td>0.649</td>\n",
       "      <td>5</td>\n",
       "      <td>-13.392</td>\n",
       "      <td>1</td>\n",
       "      <td>0.0380</td>\n",
       "      <td>0.846</td>\n",
       "      <td>0.000004</td>\n",
       "      <td>0.1190</td>\n",
       "      <td>0.908</td>\n",
       "      <td>115.940</td>\n",
       "      <td>223960</td>\n",
       "      <td>4</td>\n",
       "      <td>37.22663</td>\n",
       "      <td>12</td>\n",
       "      <td>0</td>\n",
       "    </tr>\n",
       "    <tr>\n",
       "      <th>3</th>\n",
       "      <td>Mi Bomba Sonó</td>\n",
       "      <td>Celia Cruz</td>\n",
       "      <td>spotify:track:7aNjMJ05FvUXACPWZ7yJmv</td>\n",
       "      <td>0.590</td>\n",
       "      <td>0.545</td>\n",
       "      <td>7</td>\n",
       "      <td>-12.058</td>\n",
       "      <td>0</td>\n",
       "      <td>0.1040</td>\n",
       "      <td>0.706</td>\n",
       "      <td>0.024600</td>\n",
       "      <td>0.0610</td>\n",
       "      <td>0.967</td>\n",
       "      <td>105.592</td>\n",
       "      <td>157907</td>\n",
       "      <td>4</td>\n",
       "      <td>24.75484</td>\n",
       "      <td>8</td>\n",
       "      <td>0</td>\n",
       "    </tr>\n",
       "    <tr>\n",
       "      <th>4</th>\n",
       "      <td>Uravu Solla</td>\n",
       "      <td>P. Susheela</td>\n",
       "      <td>spotify:track:1rQ0clvgkzWr001POOPJWx</td>\n",
       "      <td>0.515</td>\n",
       "      <td>0.765</td>\n",
       "      <td>11</td>\n",
       "      <td>-3.515</td>\n",
       "      <td>0</td>\n",
       "      <td>0.1240</td>\n",
       "      <td>0.857</td>\n",
       "      <td>0.000872</td>\n",
       "      <td>0.2130</td>\n",
       "      <td>0.906</td>\n",
       "      <td>114.617</td>\n",
       "      <td>245600</td>\n",
       "      <td>4</td>\n",
       "      <td>21.79874</td>\n",
       "      <td>14</td>\n",
       "      <td>0</td>\n",
       "    </tr>\n",
       "  </tbody>\n",
       "</table>\n",
       "</div>"
      ],
      "text/plain": [
       "                   track            artist  \\\n",
       "0  Jealous Kind Of Fella     Garland Green   \n",
       "1          Initials B.B.  Serge Gainsbourg   \n",
       "2           Melody Twist       Lord Melody   \n",
       "3          Mi Bomba Sonó        Celia Cruz   \n",
       "4            Uravu Solla       P. Susheela   \n",
       "\n",
       "                                    uri  danceability  energy  key  loudness  \\\n",
       "0  spotify:track:1dtKN6wwlolkM8XZy2y9C1         0.417   0.620    3    -7.727   \n",
       "1  spotify:track:5hjsmSnUefdUqzsDogisiX         0.498   0.505    3   -12.475   \n",
       "2  spotify:track:6uk8tI6pwxxdVTNlNOJeJh         0.657   0.649    5   -13.392   \n",
       "3  spotify:track:7aNjMJ05FvUXACPWZ7yJmv         0.590   0.545    7   -12.058   \n",
       "4  spotify:track:1rQ0clvgkzWr001POOPJWx         0.515   0.765   11    -3.515   \n",
       "\n",
       "   mode  speechiness  acousticness  instrumentalness  liveness  valence  \\\n",
       "0     1       0.0403         0.490          0.000000    0.0779    0.845   \n",
       "1     1       0.0337         0.018          0.107000    0.1760    0.797   \n",
       "2     1       0.0380         0.846          0.000004    0.1190    0.908   \n",
       "3     0       0.1040         0.706          0.024600    0.0610    0.967   \n",
       "4     0       0.1240         0.857          0.000872    0.2130    0.906   \n",
       "\n",
       "     tempo  duration_ms  time_signature  chorus_hit  sections  target  \n",
       "0  185.655       173533               3    32.94975         9       1  \n",
       "1  101.801       213613               4    48.82510        10       0  \n",
       "2  115.940       223960               4    37.22663        12       0  \n",
       "3  105.592       157907               4    24.75484         8       0  \n",
       "4  114.617       245600               4    21.79874        14       0  "
      ]
     },
     "execution_count": 17,
     "metadata": {},
     "output_type": "execute_result"
    }
   ],
   "source": [
    "decade_list[0].info()\n",
    "decade_list[0].head()"
   ]
  },
  {
   "cell_type": "markdown",
   "id": "3a07cb71-f15c-4dea-bfa0-4cbdd206073c",
   "metadata": {},
   "source": [
    "#### Fold in the decade as feature and combine the decade DataFrames into one large DataFrame"
   ]
  },
  {
   "cell_type": "code",
   "execution_count": 18,
   "id": "f13f3898-7464-4ba1-8559-3a0787a91dea",
   "metadata": {},
   "outputs": [
    {
     "name": "stdout",
     "output_type": "stream",
     "text": [
      "<class 'pandas.core.frame.DataFrame'>\n",
      "RangeIndex: 41106 entries, 0 to 41105\n",
      "Data columns (total 20 columns):\n",
      " #   Column            Non-Null Count  Dtype  \n",
      "---  ------            --------------  -----  \n",
      " 0   track             41106 non-null  object \n",
      " 1   artist            41106 non-null  object \n",
      " 2   uri               41106 non-null  object \n",
      " 3   danceability      41106 non-null  float64\n",
      " 4   energy            41106 non-null  float64\n",
      " 5   key               41106 non-null  int64  \n",
      " 6   loudness          41106 non-null  float64\n",
      " 7   mode              41106 non-null  int64  \n",
      " 8   speechiness       41106 non-null  float64\n",
      " 9   acousticness      41106 non-null  float64\n",
      " 10  instrumentalness  41106 non-null  float64\n",
      " 11  liveness          41106 non-null  float64\n",
      " 12  valence           41106 non-null  float64\n",
      " 13  tempo             41106 non-null  float64\n",
      " 14  duration_ms       41106 non-null  int64  \n",
      " 15  time_signature    41106 non-null  int64  \n",
      " 16  chorus_hit        41106 non-null  float64\n",
      " 17  sections          41106 non-null  int64  \n",
      " 18  target            41106 non-null  int64  \n",
      " 19  decade            41106 non-null  int64  \n",
      "dtypes: float64(10), int64(7), object(3)\n",
      "memory usage: 6.3+ MB\n"
     ]
    }
   ],
   "source": [
    "for i, decade in enumerate([1960, 1970, 1980, 1990, 2000, 2010]):\n",
    "    decade_list[i]['decade'] = pd.Series(decade, index=decade_list[i].index)\n",
    "    \n",
    "data = pd.concat(decade_list, axis=0).reset_index(drop=True)\n",
    "\n",
    "data.info()"
   ]
  },
  {
   "cell_type": "markdown",
   "id": "b55d9a93-6888-4287-9f50-d39102573796",
   "metadata": {},
   "source": [
    "#### Remove the features \"track\", \"artist\" and \"uri\" as unnecessary\n",
    "While intersting to know the identity of the songs labeled as a Hit or Flop, these data are not needed for training purposes."
   ]
  },
  {
   "cell_type": "code",
   "execution_count": 19,
   "id": "b24e9bb9-8910-4cb1-925e-349ca1698a48",
   "metadata": {},
   "outputs": [],
   "source": [
    "data = data.drop(['track', 'artist', 'uri'], axis=1)"
   ]
  },
  {
   "cell_type": "markdown",
   "id": "95bbb3a4-a649-4290-bc7a-b31e8a35455d",
   "metadata": {},
   "source": [
    "#### Split the data into Input matrix X and Target vector Y"
   ]
  },
  {
   "cell_type": "code",
   "execution_count": 20,
   "id": "b2cd5c14-b42b-46db-aea5-b9e56cb42eec",
   "metadata": {},
   "outputs": [],
   "source": [
    "X = data.drop('target',axis=1)\n",
    "Y = data['target']"
   ]
  },
  {
   "cell_type": "markdown",
   "id": "822b525a-fed5-4b1b-805e-53e54d273b14",
   "metadata": {},
   "source": [
    "#### Further split the X and Y into train/test sets with 20% retained for testing"
   ]
  },
  {
   "cell_type": "code",
   "execution_count": 23,
   "id": "1d0986e7-473f-469d-9803-3b6eb5e92782",
   "metadata": {},
   "outputs": [
    {
     "ename": "ModuleNotFoundError",
     "evalue": "No module named 'sklearn'",
     "output_type": "error",
     "traceback": [
      "\u001b[1;31m---------------------------------------------------------------------------\u001b[0m",
      "\u001b[1;31mModuleNotFoundError\u001b[0m                       Traceback (most recent call last)",
      "Cell \u001b[1;32mIn[23], line 1\u001b[0m\n\u001b[1;32m----> 1\u001b[0m \u001b[38;5;28;01mfrom\u001b[39;00m \u001b[38;5;21;01msklearn\u001b[39;00m\u001b[38;5;21;01m.\u001b[39;00m\u001b[38;5;21;01mmodel_selection\u001b[39;00m \u001b[38;5;28;01mimport\u001b[39;00m train_test_split\n\u001b[0;32m      3\u001b[0m X_train, X_test, y_train, y_test  \u001b[38;5;241m=\u001b[39m train_test_split(X, Y, train_size\u001b[38;5;241m=\u001b[39m\u001b[38;5;241m0.8\u001b[39m, random_state\u001b[38;5;241m=\u001b[39m\u001b[38;5;241m42\u001b[39m)\n",
      "\u001b[1;31mModuleNotFoundError\u001b[0m: No module named 'sklearn'"
     ]
    }
   ],
   "source": [
    "from sklearn.model_selection import train_test_split\n",
    "\n",
    "X_train, X_test, y_train, y_test  = train_test_split(X, Y, train_size=0.8, random_state=42)"
   ]
  },
  {
   "cell_type": "code",
   "execution_count": null,
   "id": "a5e4f7e0-203b-41b4-9f9f-d64afc08b059",
   "metadata": {},
   "outputs": [],
   "source": []
  }
 ],
 "metadata": {
  "kernelspec": {
   "display_name": "Python 3 (ipykernel)",
   "language": "python",
   "name": "python3"
  },
  "language_info": {
   "codemirror_mode": {
    "name": "ipython",
    "version": 3
   },
   "file_extension": ".py",
   "mimetype": "text/x-python",
   "name": "python",
   "nbconvert_exporter": "python",
   "pygments_lexer": "ipython3",
   "version": "3.11.0"
  }
 },
 "nbformat": 4,
 "nbformat_minor": 5
}
